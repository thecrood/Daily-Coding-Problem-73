{
 "cells": [
  {
   "cell_type": "markdown",
   "id": "d079d707",
   "metadata": {},
   "source": [
    "# Daily Coding Problem 73"
   ]
  },
  {
   "cell_type": "raw",
   "id": "1b5876c5",
   "metadata": {},
   "source": [
    "This problem was asked by Google.\n",
    "\n",
    "Given the head of a singly linked list, reverse it in-place."
   ]
  },
  {
   "cell_type": "markdown",
   "id": "31d1f6ee",
   "metadata": {},
   "source": [
    "# Solution\n",
    "\n",
    "We can do this by doing this iteratively, and keeping track of two things: a prev pointer and a current pointer. The current pointer will iterate over through the list and the prev pointer will follow, one node behind. Then, as we move along the list, we'll fix up the current node's next to point to the previous node. Then we update prev and current."
   ]
  },
  {
   "cell_type": "code",
   "execution_count": 1,
   "id": "c9919596",
   "metadata": {},
   "outputs": [],
   "source": [
    "def reverse(head):\n",
    "    prev, current = None, head\n",
    "    while current is not None:\n",
    "        tmp = current.next\n",
    "        current.next = prev\n",
    "        prev = current\n",
    "        current = tmp\n",
    "    return prev\n"
   ]
  },
  {
   "cell_type": "markdown",
   "id": "05eda969",
   "metadata": {},
   "source": [
    "This only uses constant space!\n",
    "\n"
   ]
  },
  {
   "cell_type": "code",
   "execution_count": null,
   "id": "0667ea05",
   "metadata": {},
   "outputs": [],
   "source": []
  }
 ],
 "metadata": {
  "kernelspec": {
   "display_name": "Python 3 (ipykernel)",
   "language": "python",
   "name": "python3"
  },
  "language_info": {
   "codemirror_mode": {
    "name": "ipython",
    "version": 3
   },
   "file_extension": ".py",
   "mimetype": "text/x-python",
   "name": "python",
   "nbconvert_exporter": "python",
   "pygments_lexer": "ipython3",
   "version": "3.8.10"
  }
 },
 "nbformat": 4,
 "nbformat_minor": 5
}
